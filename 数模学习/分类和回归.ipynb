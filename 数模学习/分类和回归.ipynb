{
 "cells": [
  {
   "cell_type": "markdown",
   "metadata": {},
   "source": [
    "# 机器学习分类、回归（监督学习）\n",
    "\n"
   ]
  },
  {
   "cell_type": "markdown",
   "metadata": {},
   "source": [
    "## 1. 先导知识与准备\n",
    "\n",
    "### 1.1 算法的性能指标（回归、分类、可泛化性 和 过/欠拟合）\n",
    "\n",
    "#### 1.1.1 回归的常见性能指标\n",
    "\n",
    "### 1.2 交叉验证\n",
    "\n",
    "### 1.3 超参数优化（网格搜索，随机搜索）\n",
    "\n",
    "### 1.4 特征工程（降维，相关性分析）\n",
    "\n",
    "### 1.5 数据预处理（缺失值，异常值）\n"
   ]
  },
  {
   "cell_type": "markdown",
   "metadata": {},
   "source": [
    "## 2. 线性模型"
   ]
  },
  {
   "cell_type": "markdown",
   "metadata": {},
   "source": [
    "## 3. 树模型"
   ]
  },
  {
   "cell_type": "markdown",
   "metadata": {},
   "source": [
    "## 4. 支持向量机"
   ]
  },
  {
   "cell_type": "markdown",
   "metadata": {},
   "source": [
    "## "
   ]
  }
 ],
 "metadata": {
  "language_info": {
   "name": "python"
  }
 },
 "nbformat": 4,
 "nbformat_minor": 2
}
